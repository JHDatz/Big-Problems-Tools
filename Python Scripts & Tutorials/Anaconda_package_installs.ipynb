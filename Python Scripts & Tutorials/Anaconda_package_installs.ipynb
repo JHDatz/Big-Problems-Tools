{
 "cells": [
  {
   "cell_type": "code",
   "execution_count": null,
   "metadata": {},
   "outputs": [],
   "source": [
    "conda config --set auto_activate_base false\n",
    "conda install tensorflow\n",
    "conda install -c ankurankan pgmpy\n",
    "conda install -c conda-forge jupyterlab\n",
    "conda install -c conda-forge notebook\n",
    "conda install -c anaconda mysql\n",
    "conda install pytest\n",
    "conda install -c conda-forge cvxpy\n",
    "conda install -c anaconda beautifulsoup4\n",
    "conda install -c conda-forge keras\n",
    "pip install mysql-connector-python-rf"
   ]
  }
 ],
 "metadata": {
  "kernelspec": {
   "display_name": "Python 3",
   "language": "python",
   "name": "python3"
  },
  "language_info": {
   "codemirror_mode": {
    "name": "ipython",
    "version": 3
   },
   "file_extension": ".py",
   "mimetype": "text/x-python",
   "name": "python",
   "nbconvert_exporter": "python",
   "pygments_lexer": "ipython3",
   "version": "3.8.5"
  }
 },
 "nbformat": 4,
 "nbformat_minor": 4
}
